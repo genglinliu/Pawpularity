{
 "cells": [
  {
   "cell_type": "code",
   "execution_count": 1,
   "id": "1af8fe6b",
   "metadata": {},
   "outputs": [],
   "source": [
    "# import necessary packages and utils\n",
    "\n",
    "import os\n",
    "import time\n",
    "\n",
    "import numpy as np\n",
    "import pandas as pd\n",
    "import matplotlib.pyplot as plt\n",
    "\n",
    "import torch\n",
    "import torch.nn as nn\n",
    "import torch.nn.functional as F\n",
    "\n",
    "from torchvision import models, transforms, datasets\n",
    "\n",
    "import torch.optim as optim\n",
    "from torch.utils.data import Dataset, DataLoader, Subset\n",
    "\n",
    "import PIL.Image as Image\n",
    "from tqdm import tqdm\n",
    "import pickle\n",
    "\n",
    "from sklearn.metrics import f1_score\n",
    "from sklearn.metrics import mean_squared_error as mse\n",
    "from sklearn import linear_model\n",
    "from sklearn.model_selection import StratifiedShuffleSplit\n",
    "\n",
    "from models.vgg16 import *"
   ]
  },
  {
   "cell_type": "code",
   "execution_count": 2,
   "id": "c352e991",
   "metadata": {},
   "outputs": [],
   "source": [
    "# config   \n",
    "\n",
    "data_dir = \"../data/petfinder-pawpularity-score/\"\n",
    "\n",
    "num_epochs = 1\n",
    "num_classes = 2\n",
    "batch_size = 16\n",
    "learning_rate = 1e-5\n",
    "\n",
    "# model_name = vgg16_bn(pretrained=True) # baseline model"
   ]
  },
  {
   "cell_type": "code",
   "execution_count": 3,
   "id": "f502e35b",
   "metadata": {},
   "outputs": [
    {
     "data": {
      "text/plain": [
       "device(type='cuda')"
      ]
     },
     "metadata": {},
     "output_type": "display_data"
    }
   ],
   "source": [
    "# device\n",
    "\n",
    "if torch.cuda.is_available():\n",
    "    device = torch.device('cuda')\n",
    "else:\n",
    "    device = torch.device('cpu')\n",
    "    \n",
    "display(device)"
   ]
  },
  {
   "cell_type": "code",
   "execution_count": 16,
   "id": "9a9e19e7",
   "metadata": {},
   "outputs": [],
   "source": [
    "# Image Dataset - might need modification later for covariates idk yet\n",
    "\n",
    "class PetDataset(Dataset):\n",
    "    def __init__(self, image_filepaths, targets, transform=None):\n",
    "        self.image_filepaths = image_filepaths\n",
    "        self.targets = targets\n",
    "        self.transform = transform\n",
    "    \n",
    "    def __len__(self):\n",
    "        return len(self.image_filepaths)\n",
    "\n",
    "    def __getitem__(self, idx):\n",
    "        image_filepath = self.image_filepaths[idx]\n",
    "        \n",
    "        with open(image_filepath, 'rb') as f:\n",
    "            image = Image.open(f)\n",
    "            image_rgb = image.convert('RGB')\n",
    "\n",
    "        if self.transform is not None:\n",
    "            image = self.transform(image)\n",
    "\n",
    "        target = torch.tensor(self.targets[idx])\n",
    "        \n",
    "        return image, target"
   ]
  },
  {
   "cell_type": "code",
   "execution_count": 17,
   "id": "27d7712d",
   "metadata": {},
   "outputs": [],
   "source": [
    "# load cvs data into dataframes\n",
    "\n",
    "def get_dataframe(data_dir, is_train=True):\n",
    "    \n",
    "    if is_train:\n",
    "        image_dir = os.path.join(data_dir, 'train')\n",
    "        file_path = os.path.join(data_dir, 'train.csv')\n",
    "    else:\n",
    "        image_dir = os.path.join(data_dir, 'test')\n",
    "        file_path = os.path.join(data_dir, 'test.csv')\n",
    "    \n",
    "    df = pd.read_csv(file_path)\n",
    "\n",
    "    # set image filepath\n",
    "    df['img_file_path'] = df['Id'].apply(lambda x: os.path.join(image_dir, f'{x}.jpg'))\n",
    "    \n",
    "    return df\n",
    "\n",
    "train_df = get_dataframe(data_dir, is_train=True)\n",
    "test_df = get_dataframe(data_dir, is_train=False)"
   ]
  },
  {
   "cell_type": "code",
   "execution_count": 18,
   "id": "bb0814b6",
   "metadata": {},
   "outputs": [],
   "source": [
    "# get DataLoader\n",
    "\n",
    "def load_data(batch_size, is_train=True, use_subset=False):\n",
    "    \"\"\"\n",
    "    return the train dataloader\n",
    "    \"\"\"\n",
    "    \n",
    "    if is_train:\n",
    "        df = get_dataframe(data_dir, is_train=True)\n",
    "        images = np.array(df['img_file_path'])\n",
    "        targets = np.array(df['Pawpularity'])\n",
    "    else:\n",
    "        df = get_dataframe(data_dir, is_train=False)\n",
    "        images = np.array(df['img_file_path'])\n",
    "        targets = np.zeros_like(images)\n",
    "    \n",
    "    transform = transforms.Compose([\n",
    "        transforms.Resize((224, 224)),\n",
    "        transforms.ToTensor(),\n",
    "        transforms.Normalize(mean=[0.5] * 3, std=[0.5] * 3)\n",
    "    ])\n",
    "    \n",
    "    dataset = PetDataset(image_filepaths=images, targets=targets, transform=transform)\n",
    "    \n",
    "    subse_ind = list(range(500))\n",
    "    \n",
    "    data_subset = Subset(dataset, subse_ind)\n",
    "\n",
    "    # data loader\n",
    "    data_loader = DataLoader(dataset=data_subset if use_subset else dataset, \n",
    "                                batch_size=batch_size,\n",
    "                                shuffle=True)\n",
    "    \n",
    "    return data_loader\n",
    "\n",
    "train_loader = load_data(batch_size, is_train=True, use_subset=True)\n",
    "test_loader = load_data(batch_size, is_train=False)"
   ]
  },
  {
   "cell_type": "code",
   "execution_count": 19,
   "id": "88e10886",
   "metadata": {},
   "outputs": [],
   "source": [
    "# init model\n",
    "\n",
    "class ConvNet_v1(nn.Module):\n",
    "    \"\"\"\n",
    "    Simple two-layer CNN with sequential container\n",
    "    \"\"\"\n",
    "    def __init__(self):\n",
    "        super(ConvNet_v1, self).__init__()\n",
    "        self.layer1 = nn.Sequential(\n",
    "            nn.Conv2d(3, 16, 3),\n",
    "            nn.ReLU(),\n",
    "            nn.Conv2d(16, 32, 3),\n",
    "            nn.ReLU(),\n",
    "            nn.MaxPool2d(kernel_size=2, stride=2),\n",
    "            nn.Flatten()\n",
    "        )\n",
    "        self.layer2 = nn.Sequential(\n",
    "            nn.Linear(387200, 128),\n",
    "            nn.ReLU(),\n",
    "            nn.Linear(128, 1) \n",
    "        )\n",
    "\n",
    "    def forward(self, x):\n",
    "        out = self.layer1(x)\n",
    "        out = self.layer2(out).squeeze()\n",
    "        return out"
   ]
  },
  {
   "cell_type": "code",
   "execution_count": 20,
   "id": "7acc3cce",
   "metadata": {},
   "outputs": [],
   "source": [
    "# init model\n",
    "\n",
    "def initialize_model(model, learning_rate, num_classes):\n",
    "    \"\"\"\n",
    "    initialize the model\n",
    "    define loss function and optimizer and move data to gpu if available\n",
    "    \n",
    "    return:\n",
    "        model, loss function(criterion), optimizer\n",
    "    \"\"\"\n",
    "    \n",
    "    model = model.to(device)\n",
    "    \n",
    "    # Define loss function and optimizer\n",
    "    criterion = nn.MSELoss()\n",
    "    optimizer = torch.optim.Adam(model.parameters(), lr=learning_rate)\n",
    "    \n",
    "    return model, criterion, optimizer\n",
    "\n",
    "model_name = ConvNet_v1()\n",
    "\n",
    "model, criterion, optimizer = initialize_model(model_name, learning_rate, num_classes)"
   ]
  },
  {
   "cell_type": "code",
   "execution_count": 21,
   "id": "1350f33e",
   "metadata": {},
   "outputs": [],
   "source": [
    "# plotting loss curve\n",
    "\n",
    "def make_plots(step_hist, loss_hist):\n",
    "    plt.plot(step_hist, loss_hist)\n",
    "    plt.xlabel('train_iterations')\n",
    "    plt.ylabel('Loss')\n",
    "    # plt.title('epoch'+str(epoch+1))\n",
    "    plt.title(experiment_name)\n",
    "    plt.show()\n",
    "    plt.savefig(experiment_name)\n",
    "    plt.clf()"
   ]
  },
  {
   "cell_type": "code",
   "execution_count": 30,
   "id": "b07b321c",
   "metadata": {},
   "outputs": [],
   "source": [
    "# train\n",
    "\n",
    "experiment_name = \"simple_run\"\n",
    "\n",
    "def calc_rmse(y_pred, y_true):\n",
    "    return np.sqrt(((y_pred - y_true) ** 2).mean())\n",
    "\n",
    "\n",
    "def train(train_loader, model, criterion, optimizer, num_epochs):\n",
    "    \"\"\"\n",
    "    Move data to GPU memory and train for specified number of epochs\n",
    "    Also plot the loss function and save it in `Figures/`\n",
    "    Trained model is saved as `cnn.ckpt`\n",
    "    \"\"\"\n",
    "    # for each training sample\n",
    "    loss_hist = []\n",
    "    step_hist = []\n",
    "    for i, (images, label) in (enumerate(train_loader)):\n",
    "\n",
    "        model.train()\n",
    "        train_pred = list()\n",
    "        train_true = list()\n",
    "\n",
    "        # move to gpu if available\n",
    "        images = images.to(device).float()\n",
    "        label = label.to(device).float()\n",
    "\n",
    "        # forward pass\n",
    "        out = model(images)\n",
    "        loss = torch.sqrt(criterion(out, label))\n",
    "\n",
    "        # backprop\n",
    "        optimizer.zero_grad()\n",
    "        loss.backward()\n",
    "        optimizer.step()\n",
    "\n",
    "        if (i+1) % 5 == 0:\n",
    "            train_true += label.cpu().detach().numpy().tolist()\n",
    "            train_pred += out.cpu().detach().numpy().tolist()\n",
    "\n",
    "            train_rmse = calc_rmse(np.array(train_pred), np.array(train_true))\n",
    "            \n",
    "            step_hist.append(i+1)\n",
    "            loss_hist.append(train_rmse)\n",
    "            print('Iteration: {}, Train rmse: {}'.format(i+1, train_rmse))\n",
    "            \n",
    "    \n",
    "    # plot\n",
    "    make_plots(step_hist, loss_hist)\n",
    "\n",
    "    torch.save(model.state_dict(), experiment_name+'.ckpt')"
   ]
  },
  {
   "cell_type": "code",
   "execution_count": 31,
   "id": "f620052c",
   "metadata": {},
   "outputs": [
    {
     "name": "stdout",
     "output_type": "stream",
     "text": [
      "Iteration: 5, Train rmse: 25.00994379915249\n",
      "Iteration: 10, Train rmse: 21.330543376938135\n",
      "Iteration: 15, Train rmse: 22.56501856291718\n",
      "Iteration: 20, Train rmse: 25.225114741221674\n",
      "Iteration: 25, Train rmse: 20.822296132776447\n",
      "Iteration: 30, Train rmse: 15.979537999316081\n"
     ]
    },
    {
     "data": {
      "image/png": "[encoded data removed]",
      "text/plain": [
       "<Figure size 432x288 with 1 Axes>"
      ]
     },
     "metadata": {
      "needs_background": "light"
     },
     "output_type": "display_data"
    },
    {
     "data": {
      "text/plain": [
       "<Figure size 432x288 with 0 Axes>"
      ]
     },
     "metadata": {},
     "output_type": "display_data"
    }
   ],
   "source": [
    "train(train_loader, model, criterion, optimizer, num_epochs)"
   ]
  },
  {
   "cell_type": "code",
   "execution_count": 32,
   "id": "70f0456d",
   "metadata": {},
   "outputs": [
    {
     "name": "stdout",
     "output_type": "stream",
     "text": [
      "Making predictions...\n"
     ]
    }
   ],
   "source": [
    "# eval\n",
    "\n",
    "# iterate over test data\n",
    "print('Making predictions...')\n",
    "test_pred = []\n",
    "\n",
    "for test_images, test_labels in test_loader:\n",
    "    test_images = test_images.to(device).float()\n",
    "    \n",
    "    # forward\n",
    "    out = model(test_images)\n",
    "    test_pred += out.cpu().detach().numpy().tolist()\n",
    "\n",
    "# write to file\n",
    "output = pd.DataFrame({\"Id\": test_df['Id'], \"Pawpularity\": test_pred})\n",
    "output.to_csv('submission.csv', index = False)"
   ]
  },
  {
   "cell_type": "code",
   "execution_count": 33,
   "id": "f34b5205",
   "metadata": {},
   "outputs": [
    {
     "data": {
      "text/html": [
       "<div>\n",
       "<style scoped>\n",
       "    .dataframe tbody tr th:only-of-type {\n",
       "        vertical-align: middle;\n",
       "    }\n",
       "\n",
       "    .dataframe tbody tr th {\n",
       "        vertical-align: top;\n",
       "    }\n",
       "\n",
       "    .dataframe thead th {\n",
       "        text-align: right;\n",
       "    }\n",
       "</style>\n",
       "<table border=\"1\" class=\"dataframe\">\n",
       "  <thead>\n",
       "    <tr style=\"text-align: right;\">\n",
       "      <th></th>\n",
       "      <th>Id</th>\n",
       "      <th>Pawpularity</th>\n",
       "    </tr>\n",
       "  </thead>\n",
       "  <tbody>\n",
       "    <tr>\n",
       "      <th>0</th>\n",
       "      <td>4128bae22183829d2b5fea10effdb0c3</td>\n",
       "      <td>35.008213</td>\n",
       "    </tr>\n",
       "    <tr>\n",
       "      <th>1</th>\n",
       "      <td>43a2262d7738e3d420d453815151079e</td>\n",
       "      <td>35.023952</td>\n",
       "    </tr>\n",
       "    <tr>\n",
       "      <th>2</th>\n",
       "      <td>4e429cead1848a298432a0acad014c9d</td>\n",
       "      <td>35.118572</td>\n",
       "    </tr>\n",
       "    <tr>\n",
       "      <th>3</th>\n",
       "      <td>80bc3ccafcc51b66303c2c263aa38486</td>\n",
       "      <td>35.168652</td>\n",
       "    </tr>\n",
       "    <tr>\n",
       "      <th>4</th>\n",
       "      <td>8f49844c382931444e68dffbe20228f4</td>\n",
       "      <td>35.190006</td>\n",
       "    </tr>\n",
       "    <tr>\n",
       "      <th>5</th>\n",
       "      <td>b03f7041962238a7c9d6537e22f9b017</td>\n",
       "      <td>35.215469</td>\n",
       "    </tr>\n",
       "    <tr>\n",
       "      <th>6</th>\n",
       "      <td>c978013571258ed6d4637f6e8cc9d6a3</td>\n",
       "      <td>35.004662</td>\n",
       "    </tr>\n",
       "    <tr>\n",
       "      <th>7</th>\n",
       "      <td>e0de453c1bffc20c22b072b34b54e50f</td>\n",
       "      <td>34.884907</td>\n",
       "    </tr>\n",
       "  </tbody>\n",
       "</table>\n",
       "</div>"
      ],
      "text/plain": [
       "                                 Id  Pawpularity\n",
       "0  4128bae22183829d2b5fea10effdb0c3    35.008213\n",
       "1  43a2262d7738e3d420d453815151079e    35.023952\n",
       "2  4e429cead1848a298432a0acad014c9d    35.118572\n",
       "3  80bc3ccafcc51b66303c2c263aa38486    35.168652\n",
       "4  8f49844c382931444e68dffbe20228f4    35.190006\n",
       "5  b03f7041962238a7c9d6537e22f9b017    35.215469\n",
       "6  c978013571258ed6d4637f6e8cc9d6a3    35.004662\n",
       "7  e0de453c1bffc20c22b072b34b54e50f    34.884907"
      ]
     },
     "execution_count": 33,
     "metadata": {},
     "output_type": "execute_result"
    }
   ],
   "source": [
    "# check output\n",
    "\n",
    "output_df = pd.read_csv('submission.csv')\n",
    "output_df"
   ]
  },
  {
   "cell_type": "code",
   "execution_count": null,
   "id": "efe7d97e",
   "metadata": {},
   "outputs": [],
   "source": []
  }
 ],
 "metadata": {
  "kernelspec": {
   "display_name": "Python 3",
   "language": "python",
   "name": "python3"
  },
  "language_info": {
   "codemirror_mode": {
    "name": "ipython",
    "version": 3
   },
   "file_extension": ".py",
   "mimetype": "text/x-python",
   "name": "python",
   "nbconvert_exporter": "python",
   "pygments_lexer": "ipython3",
   "version": "3.8.10"
  }
 },
 "nbformat": 4,
 "nbformat_minor": 5
}
